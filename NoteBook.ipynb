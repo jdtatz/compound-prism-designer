{
 "cells": [
  {
   "cell_type": "code",
   "execution_count": 1,
   "metadata": {
    "pycharm": {
     "is_executing": false
    }
   },
   "outputs": [],
   "source": [
    "from os import cpu_count\n",
    "import numpy as np\n",
    "from prism import Config, Soln, RayTraceError, create_glass_catalog, \\\n",
    "    detector_array_position, trace, transmission_data, use_pygmo, PlatypusPrismProblem\n",
    "from prism.utils import draw_compound_prism, midpts_gen\n",
    "from prism.zemax import create_zmx\n",
    "import toml"
   ]
  },
  {
   "cell_type": "code",
   "execution_count": 2,
   "metadata": {
    "pycharm": {
     "is_executing": false
    }
   },
   "outputs": [],
   "source": [
    "with open(\"catalog.agf\") as f:\n",
    "    catalog = create_glass_catalog(f.read())"
   ]
  },
  {
   "cell_type": "code",
   "execution_count": 3,
   "metadata": {
    "pycharm": {
     "is_executing": false
    }
   },
   "outputs": [
    {
     "data": {
      "text/plain": "7226"
     },
     "metadata": {},
     "output_type": "execute_result",
     "execution_count": 3
    }
   ],
   "source": [
    "import pickle\n",
    "import bz2\n",
    "len(bz2.compress(pickle.dumps(catalog)))"
   ]
  },
  {
   "cell_type": "code",
   "execution_count": 4,
   "metadata": {
    "pycharm": {
     "is_executing": false
    }
   },
   "outputs": [],
   "source": [
    "units = \"mm\"\n",
    "config = Config(\n",
    "    max_prism_count=6,\n",
    "    max_prism_height=30,\n",
    "    prism_width=7,\n",
    "    beam_width=1.8,\n",
    "    wavelength_range=(0.5, 0.82),\n",
    "    detector_array_length=32,\n",
    "    detector_array_min_ci=np.cos(np.deg2rad(45)),\n",
    "    detector_array_bin_bounds=np.array(\n",
    "        [(i + 0.1, i + 0.9) for i in range(32)]),\n",
    "    glass_catalog=catalog\n",
    ")"
   ]
  },
  {
   "cell_type": "code",
   "execution_count": 5,
   "metadata": {
    "pycharm": {
     "is_executing": false
    }
   },
   "outputs": [],
   "source": [
    "iter_count = 200\n",
    "thread_count = 64\n",
    "# thread_count = cpu_count()\n",
    "pop_size = 120"
   ]
  },
  {
   "cell_type": "code",
   "execution_count": null,
   "metadata": {
    "pycharm": {
     "is_executing": true
    }
   },
   "outputs": [],
   "source": [
    "from platypus.algorithms import *\n",
    "from platypus import experiment, ProcessPoolEvaluator, Hypervolume\n",
    "problem = PlatypusPrismProblem(config)\n",
    "\n",
    "epsilons = 0.1, 0.05, 0.05\n",
    "\n",
    "algorithms = [NSGAII,\n",
    "              (NSGAIII, {\"divisions_outer\":12}),\n",
    "              (CMAES, {\"epsilons\": epsilons}),\n",
    "              # GDE3,\n",
    "              # IBEA,\n",
    "              (MOEAD, {\"weight_generator\":normal_boundary_weights, \"divisions_outer\":12}),\n",
    "              (OMOPSO, {\"epsilons\": epsilons}),\n",
    "              SMPSO,\n",
    "              SPEA2,\n",
    "              (EpsMOEA, {\"epsilons\": epsilons})]\n",
    "\n",
    "with ProcessPoolEvaluator() as evaluator:\n",
    "    results = experiment(algorithms, problem, nfe=100000, seeds=10, evaluator=evaluator)"
   ]
  },
  {
   "cell_type": "code",
   "execution_count": null,
   "metadata": {
    "pycharm": {
     "is_executing": true
    }
   },
   "outputs": [],
   "source": [
    "# display the results\n",
    "import matplotlib.pyplot as plt\n",
    "from mpl_toolkits.mplot3d import Axes3D\n",
    "fig = plt.figure(figsize=(24, 12))\n",
    "\n",
    "hyp = Hypervolume(minimum=[0,-np.log2(len(config.detector_array_bin_bounds)),0], maximum=[1000,0,1])\n",
    "\n",
    "for i, algorithm in enumerate(results.keys()):\n",
    "    result = results[algorithm][\"PlatypusPrismProblem\"][0]\n",
    "    print(algorithm, hyp(result))\n",
    "\n",
    "    ax = fig.add_subplot(2, 4, i+1)\n",
    "    x, y, c = np.array([s.objectives for s in result]).T\n",
    "    c = np.rad2deg(np.arcsin(c))\n",
    "    sc = ax.scatter(x, y, c=c, cmap='viridis')\n",
    "    clb = fig.colorbar(sc)\n",
    "    ax.set_title(algorithm)\n",
    "    clb.ax.set_ylabel(\"deviation (deg)\")\n",
    "    ax.set_xlabel(f\"size ({units})\")\n",
    "    ax.set_ylabel(\"mutual information (bits)\")\n",
    "\n",
    "plt.show()"
   ]
  },
  {
   "cell_type": "code",
   "execution_count": null,
   "metadata": {},
   "outputs": [],
   "source": []
  },
  {
   "cell_type": "code",
   "execution_count": null,
   "metadata": {},
   "outputs": [],
   "source": [
    "solutions = use_pygmo(iter_count, thread_count, pop_size, config)\n",
    "len(solutions)"
   ]
  },
  {
   "cell_type": "code",
   "execution_count": null,
   "metadata": {},
   "outputs": [],
   "source": [
    "[s for s in solutions if s.fitness.info > 2]"
   ]
  },
  {
   "cell_type": "code",
   "execution_count": null,
   "metadata": {},
   "outputs": [],
   "source": [
    "def show_interactive(config: Config, solns: [Soln], units: str):\n",
    "    import matplotlib.pyplot as plt\n",
    "    fig = plt.figure()\n",
    "    nrows, ncols = 2, 4\n",
    "    objectives_plt = fig.add_subplot(1, ncols, 1)\n",
    "\n",
    "    x, y, c = np.array([(soln.fitness.size, soln.fitness.info, soln.fitness.deviation)\n",
    "                        for soln in solns]).T\n",
    "    c = np.rad2deg(np.arcsin(c))\n",
    "\n",
    "    sc = objectives_plt.scatter(x, y, c=c, cmap=\"viridis\", picker=True)\n",
    "    clb = fig.colorbar(sc)\n",
    "    clb.ax.set_ylabel(\"deviation (deg)\")\n",
    "    objectives_plt.set_xlabel(f\"size ({units})\")\n",
    "    objectives_plt.set_ylabel(\"mutual information (bits)\")\n",
    "    # ax.set_zlabel(\"deviation (deg)\")\n",
    "    \"\"\"\n",
    "    x, y, z, c = res.T\n",
    "    c = 1 - c\n",
    "\n",
    "    sc = ax.scatter(x, y, z, c=c, cmap=\"viridis\", picker=True)\n",
    "    clb = fig.colorbar(sc)\n",
    "    clb.ax.set_ylabel('transmittance')\n",
    "    \"\"\"\n",
    "    prism_plt = fig.add_subplot(nrows, ncols, 2)\n",
    "    text_ax = fig.add_subplot(nrows, ncols, 6)\n",
    "    det_plt = fig.add_subplot(nrows, ncols, 3)\n",
    "    trans_plt = fig.add_subplot(nrows, ncols, 7)\n",
    "    violin_plt = fig.add_subplot(1, ncols, 4)\n",
    "    prism_plt.axis('off')\n",
    "    text_ax.axis('off')\n",
    "\n",
    "    def pick(event):\n",
    "        soln = sorted((solns[i] for i in event.ind), key=lambda s: -s.fitness.info)[0]\n",
    "        prism = soln.compound_prism\n",
    "        detarr = soln.detector_array\n",
    "        beam = soln.beam\n",
    "        size, info, dev = soln.fitness.size, soln.fitness.info, soln.fitness.deviation\n",
    "\n",
    "        det_arr_pos, det_arr_dir = det = detector_array_position(prism, detarr, beam)\n",
    "        det_arr_end = det_arr_pos + det_arr_dir * config.detector_array_length\n",
    "\n",
    "        midpt = list(midpts_gen(prism))[-1]\n",
    "        detarr_offset = (det_arr_pos + det_arr_dir * config.detector_array_length / 2) - midpt\n",
    "\n",
    "        draw_compound_prism(prism_plt, prism)\n",
    "        spectro = plt.Polygon((det_arr_pos, det_arr_end), closed=None, fill=None, edgecolor='k')\n",
    "        prism_plt.add_patch(spectro)\n",
    "\n",
    "        wmin, wmax = config.wavelength_range\n",
    "        for w, color in zip((wmin, (wmin + wmax) / 2, wmax), ('r', 'g', 'b')):\n",
    "            for y in (beam.y_mean - config.beam_width, beam.y_mean, beam.y_mean + config.beam_width):\n",
    "                try:\n",
    "                    ray = np.stack(tuple(trace(w, y, prism, detarr, det)), axis=0)\n",
    "                    poly = plt.Polygon(ray, closed=None, fill=None, edgecolor=color)\n",
    "                    prism_plt.add_patch(poly)\n",
    "                except RayTraceError:\n",
    "                    pass\n",
    "\n",
    "        prism_plt.axis('scaled')\n",
    "        prism_plt.axis('off')\n",
    "\n",
    "        display = f\"\"\"CompoundPrism ({', '.join(g.name for g in prism.glasses)})\n",
    "    Parameters:\n",
    "        height ({units}): {prism.height:.4}\n",
    "        angles (deg): {', '.join(f'{np.rad2deg(angle):.4}' for angle in prism.angles)}\n",
    "        lengths ({units}): {', '.join(f'{l:.4}' for l in prism.lengths)}\n",
    "        y_mean ({units}): {beam.y_mean:.4}\n",
    "        curvature: {prism.curvature:.4}\n",
    "        detector array angle (deg): {np.rad2deg(detarr.angle):.4}\n",
    "        objectives: (size={size:.4} ({units}), info: {info:.4} (bits), deviation: {np.rad2deg(np.arcsin(dev)):.4} (deg))\n",
    "\"\"\"\n",
    "        zemax_design, zemax_file = create_zmx(prism, detarr, beam, detarr_offset)\n",
    "        display += zemax_design\n",
    "        print(display)\n",
    "        with open(\"spec.zmx\", \"w\") as f:\n",
    "            f.write(zemax_file)\n",
    "        text_ax.cla()\n",
    "        text_ax.text(0, 0.5, display, horizontalalignment='left', verticalalignment='center',\n",
    "                     transform=text_ax.transAxes)\n",
    "        text_ax.axis('scaled')\n",
    "        text_ax.axis('off')\n",
    "\n",
    "        det_plt.clear()\n",
    "        trans_plt.cla()\n",
    "        violin_plt.cla()\n",
    "\n",
    "        waves = np.linspace(config.wavelength_range[0], config.wavelength_range[1], 100)\n",
    "        ts = transmission_data(waves, prism, detarr, beam, det)\n",
    "        p_det = ts.sum(axis=1) * (1 / len(waves))\n",
    "        p_w_l_D = ts.sum(axis=0)\n",
    "        vpstats = [\n",
    "            {\n",
    "                \"coords\": waves,\n",
    "                \"vals\": t,\n",
    "                \"mean\": None,\n",
    "                \"median\": None,\n",
    "                \"min\": None,\n",
    "                \"max\": None,\n",
    "            }\n",
    "            for t in ts\n",
    "        ]\n",
    "        parts = violin_plt.violin(vpstats, showextrema=False, widths=1)\n",
    "        for pc in parts['bodies']:\n",
    "            pc.set_facecolor('black')\n",
    "        violin_plt.plot([1, len(p_det)], config.wavelength_range, 'k--')\n",
    "        det_plt.scatter(1 + np.arange(len(p_det)), p_det * 100, color='k')\n",
    "        trans_plt.plot(waves, p_w_l_D * 100, 'k')\n",
    "        trans_plt.axhline(np.mean(p_w_l_D) * 100, color='k', linestyle='--')\n",
    "\n",
    "        det_plt.set_xlabel(\"detector bins\")\n",
    "        trans_plt.set_xlabel(\"wavelength (μm)\")\n",
    "        violin_plt.set_xlabel(\"detector bins\")\n",
    "        det_plt.set_ylabel(\"p (%)\")\n",
    "        trans_plt.set_ylabel(\"p (%)\")\n",
    "        violin_plt.set_ylabel(\"wavelength (μm)\")\n",
    "        det_plt.set_title(\"p(D=d|Λ)\")\n",
    "        trans_plt.set_title(\"p(D|Λ=λ)\")\n",
    "        violin_plt.set_title(\"p(D=d|Λ=λ) as a Pseudo Violin Plot\")\n",
    "        trans_plt.set_ylim(0, 100)\n",
    "        det_plt.set_ylim(bottom=0)\n",
    "\n",
    "        fig.canvas.draw()\n",
    "        fig.canvas.flush_events()\n",
    "\n",
    "    fig.canvas.mpl_connect('pick_event', pick)\n",
    "\n",
    "    # plt.show()\n",
    "    return fig"
   ]
  },
  {
   "cell_type": "code",
   "execution_count": null,
   "metadata": {},
   "outputs": [],
   "source": [
    "%matplotlib qt\n",
    "\n",
    "show_interactive(config, solutions, units)"
   ]
  },
  {
   "cell_type": "code",
   "execution_count": null,
   "metadata": {},
   "outputs": [],
   "source": []
  },
  {
   "cell_type": "code",
   "execution_count": null,
   "metadata": {},
   "outputs": [],
   "source": []
  }
 ],
 "metadata": {
  "kernelspec": {
   "name": "prism",
   "language": "python",
   "display_name": "prism"
  },
  "language_info": {
   "codemirror_mode": {
    "name": "ipython",
    "version": 3
   },
   "file_extension": ".py",
   "mimetype": "text/x-python",
   "name": "python",
   "nbconvert_exporter": "python",
   "pygments_lexer": "ipython3",
   "version": "3.7.3"
  },
  "pycharm": {
   "stem_cell": {
    "cell_type": "raw",
    "source": [],
    "metadata": {
     "collapsed": false
    }
   }
  }
 },
 "nbformat": 4,
 "nbformat_minor": 4
}